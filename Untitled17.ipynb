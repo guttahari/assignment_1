{
  "nbformat": 4,
  "nbformat_minor": 0,
  "metadata": {
    "colab": {
      "name": "Untitled17.ipynb",
      "provenance": [],
      "authorship_tag": "ABX9TyMsv+1ZgeMFlZQAIfytWHFQ",
      "include_colab_link": true
    },
    "kernelspec": {
      "name": "python3",
      "display_name": "Python 3"
    },
    "language_info": {
      "name": "python"
    }
  },
  "cells": [
    {
      "cell_type": "markdown",
      "metadata": {
        "id": "view-in-github",
        "colab_type": "text"
      },
      "source": [
        "<a href=\"https://colab.research.google.com/github/guttahari/assignment_1/blob/main/Untitled17.ipynb\" target=\"_parent\"><img src=\"https://colab.research.google.com/assets/colab-badge.svg\" alt=\"Open In Colab\"/></a>"
      ]
    },
    {
      "cell_type": "code",
      "execution_count": null,
      "metadata": {
        "id": "obk6Xn9HvDXG"
      },
      "outputs": [],
      "source": [
        "if f_vehicle in veh_list:\n",
        "                    dri_name=input(\"Enter the Driver name :\")\n",
        "                    a='''select * from driver_table where d_name='{}';'''\n",
        "                    x=a.format(dri_name)\n",
        "                    rash.execute(x)\n",
        "                    b=\"update driver_table set d_status='on-duty',d_vehicle='{}' where d_name='{}'\"\n",
        "                    y=b.format(f_vehicle,dri_name)\n",
        "                    rash.execute(y)\n",
        "                    conn.commit()\n",
        "                \n",
        "                    status= input(\"Update the status to start trip:\")\n",
        "                    if status ==\"start trip\" :\n",
        "                        a='''update vehicle set {}={}-1;'''\n",
        "                        x=a.format(f_vehicle,f_vehicle)\n",
        "                        rash.execute(x)\n",
        "                        rash.execute(\"update fleet_manage set vehicle_allocate='\"+f_vehicle +\"' ,driver_name = '\"+dri_name+\"',status='\"+status+\"',date=current_timestamp where id=\"+str(f_id)+\" and status='Trip Yet to start';\")\n",
        "                        conn.commit()\n",
        "\n",
        "\n",
        "\n",
        "\n",
        "\n",
        "##############################################################################################################\n",
        "\n",
        "\n",
        "def vehicle_return():\n",
        "    print(\"Hello driver\")\n",
        "    a=input(\"Enter your name for vehicle return\")\n",
        "    \n",
        "    b=\"select * from driver_table where d_status='on-duty';\"\n",
        "    cursor = conn.cursor()\n",
        "    rash.execute(b)\n",
        "    records = rash.fetchall()\n",
        "    for row in records:\n",
        "        if a in row[1]:\n",
        "            c=\"update driver_table set d_status='Available',d_vehicle='None' where d_name='{}'\"\n",
        "            e=c.format(a)\n",
        "            rash.execute(e)\n",
        "            \n",
        "            d='''update vehicle set {}={}+1;'''\n",
        "            x=d.format(row[3],row[3])\n",
        "            rash.execute(x)\n",
        "            \n",
        "        else:\n",
        "            print(\"wrong driver name\")\n",
        "\n",
        "\n",
        "def driver():\n",
        "    \n",
        "    print(\"The available drivers \")\n",
        "    rash.execute(\"select * from driver_table where d_status='Available' \")\n",
        "    v_data=rash.fetchall()\n",
        "    df_v=pd.DataFrame(v_data,columns=['d_id','d_name','d_status','d_vehicle'])\n",
        "    print(df_v.to_string(index=False))\n",
        "driver()\n",
        "\n",
        "\n",
        "\n",
        "\n",
        "\n",
        "\n",
        "\n",
        "\n",
        "\n"
      ]
    }
  ]
}